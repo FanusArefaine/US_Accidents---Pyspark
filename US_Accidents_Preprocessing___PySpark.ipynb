{
  "nbformat": 4,
  "nbformat_minor": 0,
  "metadata": {
    "colab": {
      "name": "US Accidents_Preprocessing _ PySpark.ipynb",
      "provenance": [],
      "collapsed_sections": [],
      "include_colab_link": true
    },
    "kernelspec": {
      "display_name": "Python 3",
      "language": "python",
      "name": "python3"
    },
    "language_info": {
      "codemirror_mode": {
        "name": "ipython",
        "version": 3
      },
      "file_extension": ".py",
      "mimetype": "text/x-python",
      "name": "python",
      "nbconvert_exporter": "python",
      "pygments_lexer": "ipython3",
      "version": "3.6.5"
    }
  },
  "cells": [
    {
      "cell_type": "markdown",
      "metadata": {
        "id": "view-in-github",
        "colab_type": "text"
      },
      "source": [
        "<a href=\"https://colab.research.google.com/github/FanusArefaine/US_Accidents---Pyspark/blob/main/US_Accidents_Preprocessing___PySpark.ipynb\" target=\"_parent\"><img src=\"https://colab.research.google.com/assets/colab-badge.svg\" alt=\"Open In Colab\"/></a>"
      ]
    },
    {
      "cell_type": "markdown",
      "metadata": {
        "id": "Dd6t0uFzuR4X"
      },
      "source": [
        "## **Apache Spark Machine Learning**"
      ]
    },
    {
      "cell_type": "code",
      "metadata": {
        "id": "T5t7p70vx3Iu",
        "outputId": "38b88c67-78de-4c64-9113-225ecd4f6090",
        "colab": {
          "base_uri": "https://localhost:8080/"
        }
      },
      "source": [
        "from google.colab import drive\n",
        "drive.mount('/content/drive')"
      ],
      "execution_count": 1,
      "outputs": [
        {
          "output_type": "stream",
          "text": [
            "Mounted at /content/drive\n"
          ],
          "name": "stdout"
        }
      ]
    },
    {
      "cell_type": "code",
      "metadata": {
        "id": "_Zu4dPG9ondC",
        "outputId": "6e63c7d1-f095-43d2-a8e8-69b594974ee0",
        "colab": {
          "base_uri": "https://localhost:8080/"
        }
      },
      "source": [
        "!apt-get update\n",
        "!apt-get install openjdk-8-jdk-headless -qq > /dev/null\n",
        "!wget -q http://archive.apache.org/dist/spark/spark-2.3.1/spark-2.3.1-bin-hadoop2.7.tgz\n",
        "!tar xf spark-2.3.1-bin-hadoop2.7.tgz\n",
        "!pip install -q findspark"
      ],
      "execution_count": 2,
      "outputs": [
        {
          "output_type": "stream",
          "text": [
            "\r0% [Working]\r            \rGet:1 https://cloud.r-project.org/bin/linux/ubuntu bionic-cran40/ InRelease [3,626 B]\n",
            "Ign:2 https://developer.download.nvidia.com/compute/cuda/repos/ubuntu1804/x86_64  InRelease\n",
            "Ign:3 https://developer.download.nvidia.com/compute/machine-learning/repos/ubuntu1804/x86_64  InRelease\n",
            "Get:4 https://developer.download.nvidia.com/compute/cuda/repos/ubuntu1804/x86_64  Release [697 B]\n",
            "Hit:5 https://developer.download.nvidia.com/compute/machine-learning/repos/ubuntu1804/x86_64  Release\n",
            "Get:6 https://developer.download.nvidia.com/compute/cuda/repos/ubuntu1804/x86_64  Release.gpg [836 B]\n",
            "Get:7 http://security.ubuntu.com/ubuntu bionic-security InRelease [88.7 kB]\n",
            "Hit:8 http://archive.ubuntu.com/ubuntu bionic InRelease\n",
            "Get:9 http://ppa.launchpad.net/c2d4u.team/c2d4u4.0+/ubuntu bionic InRelease [15.9 kB]\n",
            "Get:10 https://cloud.r-project.org/bin/linux/ubuntu bionic-cran40/ Packages [40.1 kB]\n",
            "Get:11 http://archive.ubuntu.com/ubuntu bionic-updates InRelease [88.7 kB]\n",
            "Ign:13 https://developer.download.nvidia.com/compute/cuda/repos/ubuntu1804/x86_64  Packages\n",
            "Hit:14 http://ppa.launchpad.net/graphics-drivers/ppa/ubuntu bionic InRelease\n",
            "Get:13 https://developer.download.nvidia.com/compute/cuda/repos/ubuntu1804/x86_64  Packages [405 kB]\n",
            "Get:15 http://archive.ubuntu.com/ubuntu bionic-backports InRelease [74.6 kB]\n",
            "Get:16 http://ppa.launchpad.net/c2d4u.team/c2d4u4.0+/ubuntu bionic/main Sources [1,687 kB]\n",
            "Get:17 http://security.ubuntu.com/ubuntu bionic-security/universe amd64 Packages [1,353 kB]\n",
            "Get:18 http://archive.ubuntu.com/ubuntu bionic-updates/main amd64 Packages [2,165 kB]\n",
            "Get:19 http://security.ubuntu.com/ubuntu bionic-security/main amd64 Packages [1,748 kB]\n",
            "Get:20 http://archive.ubuntu.com/ubuntu bionic-updates/universe amd64 Packages [2,118 kB]\n",
            "Get:21 http://ppa.launchpad.net/c2d4u.team/c2d4u4.0+/ubuntu bionic/main amd64 Packages [864 kB]\n",
            "Fetched 10.7 MB in 3s (3,082 kB/s)\n",
            "Reading package lists... Done\n"
          ],
          "name": "stdout"
        }
      ]
    },
    {
      "cell_type": "code",
      "metadata": {
        "id": "FvDmfQUQowcG"
      },
      "source": [
        "import os\n",
        "os.environ[\"JAVA_HOME\"] = \"/usr/lib/jvm/java-8-openjdk-amd64\"\n",
        "os.environ[\"SPARK_HOME\"] = \"/content/spark-2.3.1-bin-hadoop2.7\""
      ],
      "execution_count": 3,
      "outputs": []
    },
    {
      "cell_type": "code",
      "metadata": {
        "id": "FvJYO8JUMtbk",
        "outputId": "a3b2fede-08e6-4e5f-fb20-7cc841cbc4e0",
        "colab": {
          "base_uri": "https://localhost:8080/",
          "height": 193
        }
      },
      "source": [
        "import findspark\n",
        "findspark.init()\n",
        "from pyspark import SparkContext\n",
        "\n",
        "sc = SparkContext.getOrCreate()\n",
        "sc"
      ],
      "execution_count": 4,
      "outputs": [
        {
          "output_type": "execute_result",
          "data": {
            "text/html": [
              "\n",
              "        <div>\n",
              "            <p><b>SparkContext</b></p>\n",
              "\n",
              "            <p><a href=\"http://ed768ea3ecb5:4040\">Spark UI</a></p>\n",
              "\n",
              "            <dl>\n",
              "              <dt>Version</dt>\n",
              "                <dd><code>v2.3.1</code></dd>\n",
              "              <dt>Master</dt>\n",
              "                <dd><code>local[*]</code></dd>\n",
              "              <dt>AppName</dt>\n",
              "                <dd><code>pyspark-shell</code></dd>\n",
              "            </dl>\n",
              "        </div>\n",
              "        "
            ],
            "text/plain": [
              "<SparkContext master=local[*] appName=pyspark-shell>"
            ]
          },
          "metadata": {
            "tags": []
          },
          "execution_count": 4
        }
      ]
    },
    {
      "cell_type": "code",
      "metadata": {
        "id": "E0-MhjBDo06R",
        "outputId": "36208639-18c2-4249-ed23-0b5ebc08a954",
        "colab": {
          "base_uri": "https://localhost:8080/",
          "height": 216
        }
      },
      "source": [
        "import pyspark\n",
        "from pyspark.sql import SparkSession\n",
        "spark = SparkSession.builder.getOrCreate() \n",
        "spark"
      ],
      "execution_count": 5,
      "outputs": [
        {
          "output_type": "execute_result",
          "data": {
            "text/html": [
              "\n",
              "            <div>\n",
              "                <p><b>SparkSession - in-memory</b></p>\n",
              "                \n",
              "        <div>\n",
              "            <p><b>SparkContext</b></p>\n",
              "\n",
              "            <p><a href=\"http://ed768ea3ecb5:4040\">Spark UI</a></p>\n",
              "\n",
              "            <dl>\n",
              "              <dt>Version</dt>\n",
              "                <dd><code>v2.3.1</code></dd>\n",
              "              <dt>Master</dt>\n",
              "                <dd><code>local[*]</code></dd>\n",
              "              <dt>AppName</dt>\n",
              "                <dd><code>pyspark-shell</code></dd>\n",
              "            </dl>\n",
              "        </div>\n",
              "        \n",
              "            </div>\n",
              "        "
            ],
            "text/plain": [
              "<pyspark.sql.session.SparkSession at 0x7fc4b8a1e668>"
            ]
          },
          "metadata": {
            "tags": []
          },
          "execution_count": 5
        }
      ]
    },
    {
      "cell_type": "code",
      "metadata": {
        "id": "mLBoG-KdLrJO"
      },
      "source": [
        "import pandas as pd\n",
        "from pyspark.sql.functions import split\n",
        "from pyspark.sql.functions import col, to_timestamp"
      ],
      "execution_count": 6,
      "outputs": []
    },
    {
      "cell_type": "code",
      "metadata": {
        "id": "vIpxTiGPymQo",
        "outputId": "ab9f648d-6f61-41c2-c331-555921a8786c",
        "colab": {
          "base_uri": "https://localhost:8080/"
        }
      },
      "source": [
        "\n",
        "# Importing dataset from Local directory\n",
        "acc_df = spark.read.csv('/content/drive/My Drive/colab_notes/datasets/US_Accidents_June20.csv', inferSchema=True, header=True)\n",
        "\n",
        "# Chaching the data into memory\n",
        "acc_df.cache()\n",
        "\n",
        "# showing top 10 rows in the dataset\n",
        "acc_df.show(10)"
      ],
      "execution_count": 7,
      "outputs": [
        {
          "output_type": "stream",
          "text": [
            "+----+--------+-----+--------+-------------------+-------------------+---------+----------+-------+-------+------------+--------------------+------+--------------------+----+------------+----------+-----+----------+-------+----------+------------+-------------------+--------------+-------------+-----------+------------+--------------+--------------+---------------+-----------------+-----------------+-------+-----+--------+--------+--------+-------+-------+----------+-------+-----+---------------+--------------+------------+--------------+--------------+-----------------+---------------------+\n",
            "|  ID|  Source|  TMC|Severity|         Start_Time|           End_Time|Start_Lat| Start_Lng|End_Lat|End_Lng|Distance(mi)|         Description|Number|              Street|Side|        City|    County|State|   Zipcode|Country|  Timezone|Airport_Code|  Weather_Timestamp|Temperature(F)|Wind_Chill(F)|Humidity(%)|Pressure(in)|Visibility(mi)|Wind_Direction|Wind_Speed(mph)|Precipitation(in)|Weather_Condition|Amenity| Bump|Crossing|Give_Way|Junction|No_Exit|Railway|Roundabout|Station| Stop|Traffic_Calming|Traffic_Signal|Turning_Loop|Sunrise_Sunset|Civil_Twilight|Nautical_Twilight|Astronomical_Twilight|\n",
            "+----+--------+-----+--------+-------------------+-------------------+---------+----------+-------+-------+------------+--------------------+------+--------------------+----+------------+----------+-----+----------+-------+----------+------------+-------------------+--------------+-------------+-----------+------------+--------------+--------------+---------------+-----------------+-----------------+-------+-----+--------+--------+--------+-------+-------+----------+-------+-----+---------------+--------------+------------+--------------+--------------+-----------------+---------------------+\n",
            "| A-1|MapQuest|201.0|       3|2016-02-08 05:46:00|2016-02-08 11:00:00|39.865147|-84.058723|   null|   null|        0.01|Right lane blocke...|  null|              I-70 E|   R|      Dayton|Montgomery|   OH|     45424|     US|US/Eastern|        KFFO|2016-02-08 05:58:00|          36.9|         null|       91.0|       29.68|          10.0|          Calm|           null|             0.02|       Light Rain|  false|false|   false|   false|   false|  false|  false|     false|  false|false|          false|         false|       false|         Night|         Night|            Night|                Night|\n",
            "| A-2|MapQuest|201.0|       2|2016-02-08 06:07:59|2016-02-08 06:37:59|39.928059|-82.831184|   null|   null|        0.01|Accident on Brice...|2584.0|            Brice Rd|   L|Reynoldsburg|  Franklin|   OH|43068-3402|     US|US/Eastern|        KCMH|2016-02-08 05:51:00|          37.9|         null|      100.0|       29.65|          10.0|          Calm|           null|              0.0|       Light Rain|  false|false|   false|   false|   false|  false|  false|     false|  false|false|          false|         false|       false|         Night|         Night|            Night|                  Day|\n",
            "| A-3|MapQuest|201.0|       2|2016-02-08 06:49:27|2016-02-08 07:19:27|39.063148|-84.032608|   null|   null|        0.01|Accident on OH-32...|  null|      State Route 32|   R|Williamsburg|  Clermont|   OH|     45176|     US|US/Eastern|        KI69|2016-02-08 06:56:00|          36.0|         33.3|      100.0|       29.67|          10.0|            SW|            3.5|             null|         Overcast|  false|false|   false|   false|   false|  false|  false|     false|  false|false|          false|          true|       false|         Night|         Night|              Day|                  Day|\n",
            "| A-4|MapQuest|201.0|       3|2016-02-08 07:23:34|2016-02-08 07:53:34|39.747753|-84.205582|   null|   null|        0.01|Accident on I-75 ...|  null|              I-75 S|   R|      Dayton|Montgomery|   OH|     45417|     US|US/Eastern|        KDAY|2016-02-08 07:38:00|          35.1|         31.0|       96.0|       29.64|           9.0|            SW|            4.6|             null|    Mostly Cloudy|  false|false|   false|   false|   false|  false|  false|     false|  false|false|          false|         false|       false|         Night|           Day|              Day|                  Day|\n",
            "| A-5|MapQuest|201.0|       2|2016-02-08 07:39:07|2016-02-08 08:09:07|39.627781|-84.188354|   null|   null|        0.01|Accident on McEwe...|  null|Miamisburg Center...|   R|      Dayton|Montgomery|   OH|     45459|     US|US/Eastern|        KMGY|2016-02-08 07:53:00|          36.0|         33.3|       89.0|       29.65|           6.0|            SW|            3.5|             null|    Mostly Cloudy|  false|false|   false|   false|   false|  false|  false|     false|  false|false|          false|          true|       false|           Day|           Day|              Day|                  Day|\n",
            "| A-6|MapQuest|201.0|       3|2016-02-08 07:44:26|2016-02-08 08:14:26| 40.10059|-82.925194|   null|   null|        0.01|Accident on I-270...|  null|      Westerville Rd|   R| Westerville|  Franklin|   OH|     43081|     US|US/Eastern|        KCMH|2016-02-08 07:51:00|          37.9|         35.5|       97.0|       29.63|           7.0|           SSW|            3.5|             0.03|       Light Rain|  false|false|   false|   false|   false|  false|  false|     false|  false|false|          false|         false|       false|           Day|           Day|              Day|                  Day|\n",
            "| A-7|MapQuest|201.0|       2|2016-02-08 07:59:35|2016-02-08 08:29:35|39.758274|-84.230507|   null|   null|         0.0|Accident on Oakri...| 376.0|      N Woodward Ave|   R|      Dayton|Montgomery|   OH|45417-2476|     US|US/Eastern|        KDAY|2016-02-08 07:56:00|          34.0|         31.0|      100.0|       29.66|           7.0|           WSW|            3.5|             null|         Overcast|  false|false|   false|   false|   false|  false|  false|     false|  false|false|          false|         false|       false|           Day|           Day|              Day|                  Day|\n",
            "| A-8|MapQuest|201.0|       3|2016-02-08 07:59:58|2016-02-08 08:29:58|39.770382|-84.194901|   null|   null|        0.01|Accident on I-75 ...|  null|           N Main St|   R|      Dayton|Montgomery|   OH|     45405|     US|US/Eastern|        KDAY|2016-02-08 07:56:00|          34.0|         31.0|      100.0|       29.66|           7.0|           WSW|            3.5|             null|         Overcast|  false|false|   false|   false|   false|  false|  false|     false|  false|false|          false|         false|       false|           Day|           Day|              Day|                  Day|\n",
            "| A-9|MapQuest|201.0|       2|2016-02-08 08:00:40|2016-02-08 08:30:40|39.778061|-84.172005|   null|   null|         0.0|Accident on Notre...|  99.0|      Notre Dame Ave|   L|      Dayton|Montgomery|   OH|45404-1923|     US|US/Eastern|        KFFO|2016-02-08 07:58:00|          33.3|         null|       99.0|       29.67|           5.0|            SW|            1.2|             null|    Mostly Cloudy|  false|false|   false|   false|   false|  false|  false|     false|  false|false|          false|         false|       false|           Day|           Day|              Day|                  Day|\n",
            "|A-10|MapQuest|201.0|       3|2016-02-08 08:10:04|2016-02-08 08:40:04| 40.10059|-82.925194|   null|   null|        0.01|Right hand should...|  null|      Westerville Rd|   R| Westerville|  Franklin|   OH|     43081|     US|US/Eastern|        KCMH|2016-02-08 08:28:00|          37.4|         33.8|      100.0|       29.62|           3.0|           SSW|            4.6|             0.02|       Light Rain|  false|false|   false|   false|   false|  false|  false|     false|  false|false|          false|         false|       false|           Day|           Day|              Day|                  Day|\n",
            "+----+--------+-----+--------+-------------------+-------------------+---------+----------+-------+-------+------------+--------------------+------+--------------------+----+------------+----------+-----+----------+-------+----------+------------+-------------------+--------------+-------------+-----------+------------+--------------+--------------+---------------+-----------------+-----------------+-------+-----+--------+--------+--------+-------+-------+----------+-------+-----+---------------+--------------+------------+--------------+--------------+-----------------+---------------------+\n",
            "only showing top 10 rows\n",
            "\n"
          ],
          "name": "stdout"
        }
      ]
    },
    {
      "cell_type": "markdown",
      "metadata": {
        "id": "ElBjcGbC9uuV"
      },
      "source": [
        "## **Data Profiling**"
      ]
    },
    {
      "cell_type": "code",
      "metadata": {
        "id": "ICbynVsczEA2",
        "outputId": "bbd56013-e76a-4f04-bef9-0ca870ac71d8",
        "colab": {
          "base_uri": "https://localhost:8080/"
        }
      },
      "source": [
        "# number of records and features  on the dataframe\n",
        "print(\"Number of records: \", acc_df.count())\n",
        "print(\"Number of features: \", len(acc_df.columns))"
      ],
      "execution_count": 8,
      "outputs": [
        {
          "output_type": "stream",
          "text": [
            "Number of records:  3513617\n",
            "Number of features:  49\n"
          ],
          "name": "stdout"
        }
      ]
    },
    {
      "cell_type": "code",
      "metadata": {
        "id": "LkFRxGJ07yj6",
        "outputId": "31fd0b01-e4f4-4961-a987-51632108063d",
        "colab": {
          "base_uri": "https://localhost:8080/"
        }
      },
      "source": [
        "# Checking the schema of the dataset\n",
        "\n",
        "acc_df.printSchema()"
      ],
      "execution_count": 9,
      "outputs": [
        {
          "output_type": "stream",
          "text": [
            "root\n",
            " |-- ID: string (nullable = true)\n",
            " |-- Source: string (nullable = true)\n",
            " |-- TMC: double (nullable = true)\n",
            " |-- Severity: integer (nullable = true)\n",
            " |-- Start_Time: timestamp (nullable = true)\n",
            " |-- End_Time: timestamp (nullable = true)\n",
            " |-- Start_Lat: double (nullable = true)\n",
            " |-- Start_Lng: double (nullable = true)\n",
            " |-- End_Lat: double (nullable = true)\n",
            " |-- End_Lng: double (nullable = true)\n",
            " |-- Distance(mi): double (nullable = true)\n",
            " |-- Description: string (nullable = true)\n",
            " |-- Number: double (nullable = true)\n",
            " |-- Street: string (nullable = true)\n",
            " |-- Side: string (nullable = true)\n",
            " |-- City: string (nullable = true)\n",
            " |-- County: string (nullable = true)\n",
            " |-- State: string (nullable = true)\n",
            " |-- Zipcode: string (nullable = true)\n",
            " |-- Country: string (nullable = true)\n",
            " |-- Timezone: string (nullable = true)\n",
            " |-- Airport_Code: string (nullable = true)\n",
            " |-- Weather_Timestamp: timestamp (nullable = true)\n",
            " |-- Temperature(F): double (nullable = true)\n",
            " |-- Wind_Chill(F): double (nullable = true)\n",
            " |-- Humidity(%): double (nullable = true)\n",
            " |-- Pressure(in): double (nullable = true)\n",
            " |-- Visibility(mi): double (nullable = true)\n",
            " |-- Wind_Direction: string (nullable = true)\n",
            " |-- Wind_Speed(mph): double (nullable = true)\n",
            " |-- Precipitation(in): double (nullable = true)\n",
            " |-- Weather_Condition: string (nullable = true)\n",
            " |-- Amenity: boolean (nullable = true)\n",
            " |-- Bump: boolean (nullable = true)\n",
            " |-- Crossing: boolean (nullable = true)\n",
            " |-- Give_Way: boolean (nullable = true)\n",
            " |-- Junction: boolean (nullable = true)\n",
            " |-- No_Exit: boolean (nullable = true)\n",
            " |-- Railway: boolean (nullable = true)\n",
            " |-- Roundabout: boolean (nullable = true)\n",
            " |-- Station: boolean (nullable = true)\n",
            " |-- Stop: boolean (nullable = true)\n",
            " |-- Traffic_Calming: boolean (nullable = true)\n",
            " |-- Traffic_Signal: boolean (nullable = true)\n",
            " |-- Turning_Loop: boolean (nullable = true)\n",
            " |-- Sunrise_Sunset: string (nullable = true)\n",
            " |-- Civil_Twilight: string (nullable = true)\n",
            " |-- Nautical_Twilight: string (nullable = true)\n",
            " |-- Astronomical_Twilight: string (nullable = true)\n",
            "\n"
          ],
          "name": "stdout"
        }
      ]
    },
    {
      "cell_type": "code",
      "metadata": {
        "id": "XkRFSYMn7zEu"
      },
      "source": [
        "### Validating Zipcode in the dataset\n",
        "\n",
        "acc_df = acc_df.withColumn(\"Zipcode\", split(\"Zipcode\", \"-\").getItem(0))"
      ],
      "execution_count": 10,
      "outputs": []
    },
    {
      "cell_type": "code",
      "metadata": {
        "id": "sHLEnoBrRYbX",
        "outputId": "98408945-b5ac-4136-97b1-1841ce6f844c",
        "colab": {
          "base_uri": "https://localhost:8080/"
        }
      },
      "source": [
        "acc_df.show(10)"
      ],
      "execution_count": 11,
      "outputs": [
        {
          "output_type": "stream",
          "text": [
            "+----+--------+-----+--------+-------------------+-------------------+---------+----------+-------+-------+------------+--------------------+------+--------------------+----+------------+----------+-----+-------+-------+----------+------------+-------------------+--------------+-------------+-----------+------------+--------------+--------------+---------------+-----------------+-----------------+-------+-----+--------+--------+--------+-------+-------+----------+-------+-----+---------------+--------------+------------+--------------+--------------+-----------------+---------------------+\n",
            "|  ID|  Source|  TMC|Severity|         Start_Time|           End_Time|Start_Lat| Start_Lng|End_Lat|End_Lng|Distance(mi)|         Description|Number|              Street|Side|        City|    County|State|Zipcode|Country|  Timezone|Airport_Code|  Weather_Timestamp|Temperature(F)|Wind_Chill(F)|Humidity(%)|Pressure(in)|Visibility(mi)|Wind_Direction|Wind_Speed(mph)|Precipitation(in)|Weather_Condition|Amenity| Bump|Crossing|Give_Way|Junction|No_Exit|Railway|Roundabout|Station| Stop|Traffic_Calming|Traffic_Signal|Turning_Loop|Sunrise_Sunset|Civil_Twilight|Nautical_Twilight|Astronomical_Twilight|\n",
            "+----+--------+-----+--------+-------------------+-------------------+---------+----------+-------+-------+------------+--------------------+------+--------------------+----+------------+----------+-----+-------+-------+----------+------------+-------------------+--------------+-------------+-----------+------------+--------------+--------------+---------------+-----------------+-----------------+-------+-----+--------+--------+--------+-------+-------+----------+-------+-----+---------------+--------------+------------+--------------+--------------+-----------------+---------------------+\n",
            "| A-1|MapQuest|201.0|       3|2016-02-08 05:46:00|2016-02-08 11:00:00|39.865147|-84.058723|   null|   null|        0.01|Right lane blocke...|  null|              I-70 E|   R|      Dayton|Montgomery|   OH|  45424|     US|US/Eastern|        KFFO|2016-02-08 05:58:00|          36.9|         null|       91.0|       29.68|          10.0|          Calm|           null|             0.02|       Light Rain|  false|false|   false|   false|   false|  false|  false|     false|  false|false|          false|         false|       false|         Night|         Night|            Night|                Night|\n",
            "| A-2|MapQuest|201.0|       2|2016-02-08 06:07:59|2016-02-08 06:37:59|39.928059|-82.831184|   null|   null|        0.01|Accident on Brice...|2584.0|            Brice Rd|   L|Reynoldsburg|  Franklin|   OH|  43068|     US|US/Eastern|        KCMH|2016-02-08 05:51:00|          37.9|         null|      100.0|       29.65|          10.0|          Calm|           null|              0.0|       Light Rain|  false|false|   false|   false|   false|  false|  false|     false|  false|false|          false|         false|       false|         Night|         Night|            Night|                  Day|\n",
            "| A-3|MapQuest|201.0|       2|2016-02-08 06:49:27|2016-02-08 07:19:27|39.063148|-84.032608|   null|   null|        0.01|Accident on OH-32...|  null|      State Route 32|   R|Williamsburg|  Clermont|   OH|  45176|     US|US/Eastern|        KI69|2016-02-08 06:56:00|          36.0|         33.3|      100.0|       29.67|          10.0|            SW|            3.5|             null|         Overcast|  false|false|   false|   false|   false|  false|  false|     false|  false|false|          false|          true|       false|         Night|         Night|              Day|                  Day|\n",
            "| A-4|MapQuest|201.0|       3|2016-02-08 07:23:34|2016-02-08 07:53:34|39.747753|-84.205582|   null|   null|        0.01|Accident on I-75 ...|  null|              I-75 S|   R|      Dayton|Montgomery|   OH|  45417|     US|US/Eastern|        KDAY|2016-02-08 07:38:00|          35.1|         31.0|       96.0|       29.64|           9.0|            SW|            4.6|             null|    Mostly Cloudy|  false|false|   false|   false|   false|  false|  false|     false|  false|false|          false|         false|       false|         Night|           Day|              Day|                  Day|\n",
            "| A-5|MapQuest|201.0|       2|2016-02-08 07:39:07|2016-02-08 08:09:07|39.627781|-84.188354|   null|   null|        0.01|Accident on McEwe...|  null|Miamisburg Center...|   R|      Dayton|Montgomery|   OH|  45459|     US|US/Eastern|        KMGY|2016-02-08 07:53:00|          36.0|         33.3|       89.0|       29.65|           6.0|            SW|            3.5|             null|    Mostly Cloudy|  false|false|   false|   false|   false|  false|  false|     false|  false|false|          false|          true|       false|           Day|           Day|              Day|                  Day|\n",
            "| A-6|MapQuest|201.0|       3|2016-02-08 07:44:26|2016-02-08 08:14:26| 40.10059|-82.925194|   null|   null|        0.01|Accident on I-270...|  null|      Westerville Rd|   R| Westerville|  Franklin|   OH|  43081|     US|US/Eastern|        KCMH|2016-02-08 07:51:00|          37.9|         35.5|       97.0|       29.63|           7.0|           SSW|            3.5|             0.03|       Light Rain|  false|false|   false|   false|   false|  false|  false|     false|  false|false|          false|         false|       false|           Day|           Day|              Day|                  Day|\n",
            "| A-7|MapQuest|201.0|       2|2016-02-08 07:59:35|2016-02-08 08:29:35|39.758274|-84.230507|   null|   null|         0.0|Accident on Oakri...| 376.0|      N Woodward Ave|   R|      Dayton|Montgomery|   OH|  45417|     US|US/Eastern|        KDAY|2016-02-08 07:56:00|          34.0|         31.0|      100.0|       29.66|           7.0|           WSW|            3.5|             null|         Overcast|  false|false|   false|   false|   false|  false|  false|     false|  false|false|          false|         false|       false|           Day|           Day|              Day|                  Day|\n",
            "| A-8|MapQuest|201.0|       3|2016-02-08 07:59:58|2016-02-08 08:29:58|39.770382|-84.194901|   null|   null|        0.01|Accident on I-75 ...|  null|           N Main St|   R|      Dayton|Montgomery|   OH|  45405|     US|US/Eastern|        KDAY|2016-02-08 07:56:00|          34.0|         31.0|      100.0|       29.66|           7.0|           WSW|            3.5|             null|         Overcast|  false|false|   false|   false|   false|  false|  false|     false|  false|false|          false|         false|       false|           Day|           Day|              Day|                  Day|\n",
            "| A-9|MapQuest|201.0|       2|2016-02-08 08:00:40|2016-02-08 08:30:40|39.778061|-84.172005|   null|   null|         0.0|Accident on Notre...|  99.0|      Notre Dame Ave|   L|      Dayton|Montgomery|   OH|  45404|     US|US/Eastern|        KFFO|2016-02-08 07:58:00|          33.3|         null|       99.0|       29.67|           5.0|            SW|            1.2|             null|    Mostly Cloudy|  false|false|   false|   false|   false|  false|  false|     false|  false|false|          false|         false|       false|           Day|           Day|              Day|                  Day|\n",
            "|A-10|MapQuest|201.0|       3|2016-02-08 08:10:04|2016-02-08 08:40:04| 40.10059|-82.925194|   null|   null|        0.01|Right hand should...|  null|      Westerville Rd|   R| Westerville|  Franklin|   OH|  43081|     US|US/Eastern|        KCMH|2016-02-08 08:28:00|          37.4|         33.8|      100.0|       29.62|           3.0|           SSW|            4.6|             0.02|       Light Rain|  false|false|   false|   false|   false|  false|  false|     false|  false|false|          false|         false|       false|           Day|           Day|              Day|                  Day|\n",
            "+----+--------+-----+--------+-------------------+-------------------+---------+----------+-------+-------+------------+--------------------+------+--------------------+----+------------+----------+-----+-------+-------+----------+------------+-------------------+--------------+-------------+-----------+------------+--------------+--------------+---------------+-----------------+-----------------+-------+-----+--------+--------+--------+-------+-------+----------+-------+-----+---------------+--------------+------------+--------------+--------------+-----------------+---------------------+\n",
            "only showing top 10 rows\n",
            "\n"
          ],
          "name": "stdout"
        }
      ]
    },
    {
      "cell_type": "code",
      "metadata": {
        "id": "YxctcTUbzq2d",
        "outputId": "7093c01c-8c6a-4c10-f6cb-1bcd8849a214",
        "colab": {
          "base_uri": "https://localhost:8080/"
        }
      },
      "source": [
        "#Checking the percentage of null values of all columns\n",
        "\n",
        "def null_percentage(df):\n",
        "\n",
        "  \"\"\" A function to check and print percentage of null values in a pyspark dataframe\"\"\"\n",
        "\n",
        "  \"\"\" Input: pyspark dataframe -> df\n",
        "      Output: print the percentage of null values in each feature\"\"\"\n",
        "\n",
        "  for col in df.columns:\n",
        "    \n",
        "    per_null = round(((df.filter(df[col].isNull()=='true')).count()/3513617)*100,2)\n",
        "    print(col, \" - \", per_null, \"% null values\")\n",
        "\n",
        "\n",
        "\n",
        "null_percentage(acc_df)"
      ],
      "execution_count": 12,
      "outputs": [
        {
          "output_type": "stream",
          "text": [
            "ID  -  0.0 % null values\n",
            "Source  -  0.0 % null values\n",
            "TMC  -  29.45 % null values\n",
            "Severity  -  0.0 % null values\n",
            "Start_Time  -  0.0 % null values\n",
            "End_Time  -  0.0 % null values\n",
            "Start_Lat  -  0.0 % null values\n",
            "Start_Lng  -  0.0 % null values\n",
            "End_Lat  -  70.55 % null values\n",
            "End_Lng  -  70.55 % null values\n",
            "Distance(mi)  -  0.0 % null values\n",
            "Description  -  0.0 % null values\n",
            "Number  -  64.4 % null values\n",
            "Street  -  0.0 % null values\n",
            "Side  -  0.0 % null values\n",
            "City  -  0.0 % null values\n",
            "County  -  0.0 % null values\n",
            "State  -  0.0 % null values\n",
            "Zipcode  -  0.03 % null values\n",
            "Country  -  0.0 % null values\n",
            "Timezone  -  0.11 % null values\n",
            "Airport_Code  -  0.19 % null values\n",
            "Weather_Timestamp  -  1.23 % null values\n",
            "Temperature(F)  -  1.87 % null values\n",
            "Wind_Chill(F)  -  53.17 % null values\n",
            "Humidity(%)  -  1.98 % null values\n",
            "Pressure(in)  -  1.59 % null values\n",
            "Visibility(mi)  -  2.16 % null values\n",
            "Wind_Direction  -  1.68 % null values\n",
            "Wind_Speed(mph)  -  12.94 % null values\n",
            "Precipitation(in)  -  57.66 % null values\n",
            "Weather_Condition  -  2.17 % null values\n",
            "Amenity  -  0.0 % null values\n",
            "Bump  -  0.0 % null values\n",
            "Crossing  -  0.0 % null values\n",
            "Give_Way  -  0.0 % null values\n",
            "Junction  -  0.0 % null values\n",
            "No_Exit  -  0.0 % null values\n",
            "Railway  -  0.0 % null values\n",
            "Roundabout  -  0.0 % null values\n",
            "Station  -  0.0 % null values\n",
            "Stop  -  0.0 % null values\n",
            "Traffic_Calming  -  0.0 % null values\n",
            "Traffic_Signal  -  0.0 % null values\n",
            "Turning_Loop  -  0.0 % null values\n",
            "Sunrise_Sunset  -  0.0 % null values\n",
            "Civil_Twilight  -  0.0 % null values\n",
            "Nautical_Twilight  -  0.0 % null values\n",
            "Astronomical_Twilight  -  0.0 % null values\n"
          ],
          "name": "stdout"
        }
      ]
    },
    {
      "cell_type": "code",
      "metadata": {
        "id": "rEIEr72WzrT-"
      },
      "source": [
        "# Some of the columns have a lot of null values. Hence, removal of columns with considerable null values is essential for further efficient and correct data processing\n",
        "\n",
        "# columns with significant null values\n",
        "\n",
        "cols_null = ['TMC', 'End_Lat', 'End_Lng', 'Number', 'Wind_Chill(F)', 'Precipitation(in)']\n",
        "\n",
        "# dropping the above columns fromt the dataset\n",
        "\n",
        "acc_df = acc_df.drop(*cols_null)\n"
      ],
      "execution_count": 13,
      "outputs": []
    },
    {
      "cell_type": "code",
      "metadata": {
        "id": "bo2fKhpBZlHC",
        "outputId": "4112072e-042f-496e-a3dd-161a71b0c89b",
        "colab": {
          "base_uri": "https://localhost:8080/"
        }
      },
      "source": [
        "# Further dropping null values from the data\n",
        "\n",
        "acc_df = acc_df.dropna()\n",
        "\n",
        "# Further checking the percentage of null values of all columns\n",
        "\n",
        "null_percentage(acc_df)"
      ],
      "execution_count": 14,
      "outputs": [
        {
          "output_type": "stream",
          "text": [
            "ID  -  0.0 % null values\n",
            "Source  -  0.0 % null values\n",
            "Severity  -  0.0 % null values\n",
            "Start_Time  -  0.0 % null values\n",
            "End_Time  -  0.0 % null values\n",
            "Start_Lat  -  0.0 % null values\n",
            "Start_Lng  -  0.0 % null values\n",
            "Distance(mi)  -  0.0 % null values\n",
            "Description  -  0.0 % null values\n",
            "Street  -  0.0 % null values\n",
            "Side  -  0.0 % null values\n",
            "City  -  0.0 % null values\n",
            "County  -  0.0 % null values\n",
            "State  -  0.0 % null values\n",
            "Zipcode  -  0.0 % null values\n",
            "Country  -  0.0 % null values\n",
            "Timezone  -  0.0 % null values\n",
            "Airport_Code  -  0.0 % null values\n",
            "Weather_Timestamp  -  0.0 % null values\n",
            "Temperature(F)  -  0.0 % null values\n",
            "Humidity(%)  -  0.0 % null values\n",
            "Pressure(in)  -  0.0 % null values\n",
            "Visibility(mi)  -  0.0 % null values\n",
            "Wind_Direction  -  0.0 % null values\n",
            "Wind_Speed(mph)  -  0.0 % null values\n",
            "Weather_Condition  -  0.0 % null values\n",
            "Amenity  -  0.0 % null values\n",
            "Bump  -  0.0 % null values\n",
            "Crossing  -  0.0 % null values\n",
            "Give_Way  -  0.0 % null values\n",
            "Junction  -  0.0 % null values\n",
            "No_Exit  -  0.0 % null values\n",
            "Railway  -  0.0 % null values\n",
            "Roundabout  -  0.0 % null values\n",
            "Station  -  0.0 % null values\n",
            "Stop  -  0.0 % null values\n",
            "Traffic_Calming  -  0.0 % null values\n",
            "Traffic_Signal  -  0.0 % null values\n",
            "Turning_Loop  -  0.0 % null values\n",
            "Sunrise_Sunset  -  0.0 % null values\n",
            "Civil_Twilight  -  0.0 % null values\n",
            "Nautical_Twilight  -  0.0 % null values\n",
            "Astronomical_Twilight  -  0.0 % null values\n"
          ],
          "name": "stdout"
        }
      ]
    },
    {
      "cell_type": "code",
      "metadata": {
        "id": "2aWrT_f8ZlTr",
        "outputId": "914ca03a-5f03-4a4f-ccd8-36d502c6de07",
        "colab": {
          "base_uri": "https://localhost:8080/"
        }
      },
      "source": [
        "# As shown above, the dataset does not have null values\n",
        "\n",
        "# Clean dataset with selected columns\n",
        "\n",
        "acc_df.show()"
      ],
      "execution_count": null,
      "outputs": [
        {
          "output_type": "stream",
          "text": [
            "+----+--------+--------+-------------------+-------------------+---------+----------+------------+--------------------+--------------------+----+------------+----------+-----+-------+-------+----------+------------+-------------------+--------------+-----------+------------+--------------+--------------+---------------+-----------------+-------+-----+--------+--------+--------+-------+-------+----------+-------+-----+---------------+--------------+------------+--------------+--------------+-----------------+---------------------+\n",
            "|  ID|  Source|Severity|         Start_Time|           End_Time|Start_Lat| Start_Lng|Distance(mi)|         Description|              Street|Side|        City|    County|State|Zipcode|Country|  Timezone|Airport_Code|  Weather_Timestamp|Temperature(F)|Humidity(%)|Pressure(in)|Visibility(mi)|Wind_Direction|Wind_Speed(mph)|Weather_Condition|Amenity| Bump|Crossing|Give_Way|Junction|No_Exit|Railway|Roundabout|Station| Stop|Traffic_Calming|Traffic_Signal|Turning_Loop|Sunrise_Sunset|Civil_Twilight|Nautical_Twilight|Astronomical_Twilight|\n",
            "+----+--------+--------+-------------------+-------------------+---------+----------+------------+--------------------+--------------------+----+------------+----------+-----+-------+-------+----------+------------+-------------------+--------------+-----------+------------+--------------+--------------+---------------+-----------------+-------+-----+--------+--------+--------+-------+-------+----------+-------+-----+---------------+--------------+------------+--------------+--------------+-----------------+---------------------+\n",
            "| A-3|MapQuest|       2|2016-02-08 06:49:27|2016-02-08 07:19:27|39.063148|-84.032608|        0.01|Accident on OH-32...|      State Route 32|   R|Williamsburg|  Clermont|   OH|  45176|     US|US/Eastern|        KI69|2016-02-08 06:56:00|          36.0|      100.0|       29.67|          10.0|            SW|            3.5|         Overcast|  false|false|   false|   false|   false|  false|  false|     false|  false|false|          false|          true|       false|         Night|         Night|              Day|                  Day|\n",
            "| A-4|MapQuest|       3|2016-02-08 07:23:34|2016-02-08 07:53:34|39.747753|-84.205582|        0.01|Accident on I-75 ...|              I-75 S|   R|      Dayton|Montgomery|   OH|  45417|     US|US/Eastern|        KDAY|2016-02-08 07:38:00|          35.1|       96.0|       29.64|           9.0|            SW|            4.6|    Mostly Cloudy|  false|false|   false|   false|   false|  false|  false|     false|  false|false|          false|         false|       false|         Night|           Day|              Day|                  Day|\n",
            "| A-5|MapQuest|       2|2016-02-08 07:39:07|2016-02-08 08:09:07|39.627781|-84.188354|        0.01|Accident on McEwe...|Miamisburg Center...|   R|      Dayton|Montgomery|   OH|  45459|     US|US/Eastern|        KMGY|2016-02-08 07:53:00|          36.0|       89.0|       29.65|           6.0|            SW|            3.5|    Mostly Cloudy|  false|false|   false|   false|   false|  false|  false|     false|  false|false|          false|          true|       false|           Day|           Day|              Day|                  Day|\n",
            "| A-6|MapQuest|       3|2016-02-08 07:44:26|2016-02-08 08:14:26| 40.10059|-82.925194|        0.01|Accident on I-270...|      Westerville Rd|   R| Westerville|  Franklin|   OH|  43081|     US|US/Eastern|        KCMH|2016-02-08 07:51:00|          37.9|       97.0|       29.63|           7.0|           SSW|            3.5|       Light Rain|  false|false|   false|   false|   false|  false|  false|     false|  false|false|          false|         false|       false|           Day|           Day|              Day|                  Day|\n",
            "| A-7|MapQuest|       2|2016-02-08 07:59:35|2016-02-08 08:29:35|39.758274|-84.230507|         0.0|Accident on Oakri...|      N Woodward Ave|   R|      Dayton|Montgomery|   OH|  45417|     US|US/Eastern|        KDAY|2016-02-08 07:56:00|          34.0|      100.0|       29.66|           7.0|           WSW|            3.5|         Overcast|  false|false|   false|   false|   false|  false|  false|     false|  false|false|          false|         false|       false|           Day|           Day|              Day|                  Day|\n",
            "| A-8|MapQuest|       3|2016-02-08 07:59:58|2016-02-08 08:29:58|39.770382|-84.194901|        0.01|Accident on I-75 ...|           N Main St|   R|      Dayton|Montgomery|   OH|  45405|     US|US/Eastern|        KDAY|2016-02-08 07:56:00|          34.0|      100.0|       29.66|           7.0|           WSW|            3.5|         Overcast|  false|false|   false|   false|   false|  false|  false|     false|  false|false|          false|         false|       false|           Day|           Day|              Day|                  Day|\n",
            "| A-9|MapQuest|       2|2016-02-08 08:00:40|2016-02-08 08:30:40|39.778061|-84.172005|         0.0|Accident on Notre...|      Notre Dame Ave|   L|      Dayton|Montgomery|   OH|  45404|     US|US/Eastern|        KFFO|2016-02-08 07:58:00|          33.3|       99.0|       29.67|           5.0|            SW|            1.2|    Mostly Cloudy|  false|false|   false|   false|   false|  false|  false|     false|  false|false|          false|         false|       false|           Day|           Day|              Day|                  Day|\n",
            "|A-10|MapQuest|       3|2016-02-08 08:10:04|2016-02-08 08:40:04| 40.10059|-82.925194|        0.01|Right hand should...|      Westerville Rd|   R| Westerville|  Franklin|   OH|  43081|     US|US/Eastern|        KCMH|2016-02-08 08:28:00|          37.4|      100.0|       29.62|           3.0|           SSW|            4.6|       Light Rain|  false|false|   false|   false|   false|  false|  false|     false|  false|false|          false|         false|       false|           Day|           Day|              Day|                  Day|\n",
            "|A-11|MapQuest|       3|2016-02-08 08:14:42|2016-02-08 08:44:42|39.952812|-83.119293|        0.01|Accident on I-270...|         Outerbelt S|   R|    Columbus|  Franklin|   OH|  43228|     US|US/Eastern|        KTZR|2016-02-08 07:50:00|          35.6|       93.0|       29.64|           5.0|           WNW|            5.8|             Rain|  false|false|   false|   false|   false|  false|  false|     false|  false|false|          false|         false|       false|           Day|           Day|              Day|                  Day|\n",
            "|A-12|MapQuest|       3|2016-02-08 08:21:27|2016-02-08 08:51:27|39.932709| -82.83091|        0.01|One lane blocked ...|              I-70 E|   R|Reynoldsburg|  Franklin|   OH|  43068|     US|US/Eastern|        KCMH|2016-02-08 08:28:00|          37.4|      100.0|       29.62|           3.0|           SSW|            4.6|       Light Rain|  false|false|   false|   false|    true|  false|  false|     false|  false|false|          false|         false|       false|           Day|           Day|              Day|                  Day|\n",
            "|A-13|MapQuest|       2|2016-02-08 08:36:34|2016-02-08 09:06:34|39.737633|-84.149933|         0.0|Accident on Rever...|      Watervliet Ave|   R|      Dayton|Montgomery|   OH|  45420|     US|US/Eastern|        KFFO|2016-02-08 08:28:00|          33.8|      100.0|       29.63|           3.0|            SW|            2.3|         Overcast|  false|false|   false|   false|   false|  false|  false|     false|  false|false|          false|         false|       false|           Day|           Day|              Day|                  Day|\n",
            "|A-14|MapQuest|       2|2016-02-08 08:37:07|2016-02-08 09:07:07| 39.79076|-84.241547|        0.01|Accident on Salem...|           Salem Ave|   L|      Dayton|Montgomery|   OH|  45406|     US|US/Eastern|        KDAY|2016-02-08 08:56:00|          36.0|       89.0|       29.65|          10.0|            NW|            5.8|    Mostly Cloudy|  false|false|   false|   false|   false|  false|  false|     false|  false|false|          false|          true|       false|           Day|           Day|              Day|                  Day|\n",
            "|A-15|MapQuest|       2|2016-02-08 08:39:43|2016-02-08 09:09:43|39.972038|-82.913521|        0.01|Accident on OH-16...|          E Broad St|   L|    Columbus|  Franklin|   OH|  43213|     US|US/Eastern|        KCMH|2016-02-08 08:28:00|          37.4|      100.0|       29.62|           3.0|           SSW|            4.6|       Light Rain|  false|false|   false|   false|   false|  false|  false|     false|  false|false|          false|          true|       false|           Day|           Day|              Day|                  Day|\n",
            "|A-16|MapQuest|       2|2016-02-08 08:43:20|2016-02-08 09:13:20|39.745888| -84.17041|        0.01|Accident on Wayne...|         Glencoe Ave|   R|      Dayton|Montgomery|   OH|  45410|     US|US/Eastern|        KFFO|2016-02-08 08:28:00|          33.8|      100.0|       29.63|           3.0|            SW|            2.3|         Overcast|  false|false|   false|   false|   false|  false|  false|     false|  false|false|          false|         false|       false|           Day|           Day|              Day|                  Day|\n",
            "|A-17|MapQuest|       2|2016-02-08 08:53:17|2016-02-08 09:23:17|39.748329|-84.224007|        0.01|Accident on James...|S James H McGee Blvd|   R|      Dayton|Montgomery|   OH|  45402|     US|US/Eastern|        KFFO|2016-02-08 08:58:00|          35.6|       99.0|       29.65|           7.0|           WSW|            2.3|    Mostly Cloudy|  false|false|   false|   false|   false|  false|  false|     false|  false|false|          false|         false|       false|           Day|           Day|              Day|                  Day|\n",
            "|A-18|MapQuest|       2|2016-02-08 09:24:37|2016-02-08 09:54:37|39.752174|-84.239952|         0.0|Accident on Delph...|         Delphos Ave|   R|      Dayton|Montgomery|   OH|  45417|     US|US/Eastern|        KDAY|2016-02-08 08:56:00|          36.0|       89.0|       29.65|          10.0|            NW|            5.8|    Mostly Cloudy|  false|false|   false|   false|   false|  false|  false|     false|  false|false|          false|         false|       false|           Day|           Day|              Day|                  Day|\n",
            "|A-19|MapQuest|       2|2016-02-08 09:25:17|2016-02-08 09:55:17|39.740669|-84.184135|        0.01|Accident on Stewa...|          Rubicon St|   L|      Dayton|Montgomery|   OH|  45409|     US|US/Eastern|        KFFO|2016-02-08 09:38:00|          37.4|       93.0|       29.63|          10.0|           WSW|            6.9|         Overcast|  false|false|    true|   false|   false|  false|  false|     false|  false|false|          false|          true|       false|           Day|           Day|              Day|                  Day|\n",
            "|A-20|MapQuest|       2|2016-02-08 09:35:35|2016-02-08 10:05:35|39.790703|-84.244461|        0.01|Accident on Hillc...|     W Hillcrest Ave|   R|      Dayton|Montgomery|   OH|  45406|     US|US/Eastern|        KDAY|2016-02-08 09:56:00|          36.0|       89.0|       29.65|          10.0|          West|            6.9|    Mostly Cloudy|  false|false|   false|   false|   false|  false|  false|     false|  false|false|          false|         false|       false|           Day|           Day|              Day|                  Day|\n",
            "|A-21|MapQuest|       2|2016-02-08 10:11:15|2016-02-08 10:41:15|40.052509|-82.882332|         0.0|Accident on Brook...|        Brookhill Dr|   R|    Columbus|  Franklin|   OH|  43230|     US|US/Eastern|        KCMH|2016-02-08 10:14:00|          33.8|      100.0|       29.62|           2.0|           NNW|            4.6|       Light Snow|  false|false|   false|   false|   false|  false|  false|     false|  false|false|          false|         false|       false|           Day|           Day|              Day|                  Day|\n",
            "|A-22|MapQuest|       2|2016-02-08 10:24:27|2016-02-08 10:54:27|39.773346|-84.224686|         0.0|Accident on Princ...|        Princeton Dr|   R|      Dayton|Montgomery|   OH|  45406|     US|US/Eastern|        KDAY|2016-02-08 09:56:00|          36.0|       89.0|       29.65|          10.0|          West|            6.9|    Mostly Cloudy|  false|false|   false|   false|   false|  false|  false|     false|  false|false|          false|         false|       false|           Day|           Day|              Day|                  Day|\n",
            "+----+--------+--------+-------------------+-------------------+---------+----------+------------+--------------------+--------------------+----+------------+----------+-----+-------+-------+----------+------------+-------------------+--------------+-----------+------------+--------------+--------------+---------------+-----------------+-------+-----+--------+--------+--------+-------+-------+----------+-------+-----+---------------+--------------+------------+--------------+--------------+-----------------+---------------------+\n",
            "only showing top 20 rows\n",
            "\n"
          ],
          "name": "stdout"
        }
      ]
    },
    {
      "cell_type": "code",
      "metadata": {
        "id": "hV0q8Khs6Gib"
      },
      "source": [
        "# Saving pyspark dataframe as a form of several csv files\n",
        "\n",
        "acc_df.write.csv(\"US_accidents.csv\", header=True)"
      ],
      "execution_count": null,
      "outputs": []
    },
    {
      "cell_type": "code",
      "metadata": {
        "id": "MbM340Dt-ddC"
      },
      "source": [
        "# Savig pyspark dataframe to a single csv file\n",
        "\n",
        "acc_df.coalesce(1).write.option(\"header\", \"true\").csv(\"US_accident.csv\")"
      ],
      "execution_count": null,
      "outputs": []
    },
    {
      "cell_type": "code",
      "metadata": {
        "id": "8gQr2PRs-jNe"
      },
      "source": [
        "# Saving pyspark dataframe into a single dataframe by first converting into pandas dataframe\n",
        "\n",
        "acc_df.toPandas().to_csv(\"sample_file.csv\", header=True)"
      ],
      "execution_count": null,
      "outputs": []
    },
    {
      "cell_type": "code",
      "metadata": {
        "id": "WyUUW9QrKIop"
      },
      "source": [
        ""
      ],
      "execution_count": null,
      "outputs": []
    }
  ]
}